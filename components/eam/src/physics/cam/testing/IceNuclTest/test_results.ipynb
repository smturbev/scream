{
 "cells": [
  {
   "cell_type": "code",
   "execution_count": 139,
   "metadata": {},
   "outputs": [],
   "source": [
    "import pandas as pd\n",
    "import numpy as np\n",
    "import matplotlib.pyplot as plt\n",
    "from scipy import stats\n",
    "from matplotlib import ticker\n",
    "\n",
    "file = \"test06.txt\"\n",
    "i=0"
   ]
  },
  {
   "cell_type": "code",
   "execution_count": 142,
   "metadata": {},
   "outputs": [],
   "source": [
    "f = open(file)\n",
    "new = f.read().replace(\"  \",\" \")\n",
    "if i==0:\n",
    "    new = new.replace(\"~/scream/components/eam/src/physics/cam/testing/IceNuclTest/obj ~/scream/components/eam/src/physics/cam/testing/IceNuclTest\\n~/scream/components/eam/src/physics/cam/testing/IceNuclTest\\n \",\"\")\n",
    "    new = new.replace(\"\\n \",\"\\n\")\n",
    "i+=1\n",
    "f.close()\n",
    "f = open(file,'w')\n",
    "f.write(new)\n",
    "f.close()"
   ]
  },
  {
   "cell_type": "code",
   "execution_count": 143,
   "metadata": {},
   "outputs": [
    {
     "data": {
      "text/html": [
       "<div>\n",
       "<style scoped>\n",
       "    .dataframe tbody tr th:only-of-type {\n",
       "        vertical-align: middle;\n",
       "    }\n",
       "\n",
       "    .dataframe tbody tr th {\n",
       "        vertical-align: top;\n",
       "    }\n",
       "\n",
       "    .dataframe thead th {\n",
       "        text-align: right;\n",
       "    }\n",
       "</style>\n",
       "<table border=\"1\" class=\"dataframe\">\n",
       "  <thead>\n",
       "    <tr style=\"text-align: right;\">\n",
       "      <th></th>\n",
       "      <th>w</th>\n",
       "      <th>qc</th>\n",
       "      <th>T</th>\n",
       "      <th>Sice</th>\n",
       "      <th>Sliq</th>\n",
       "      <th>Nnuc_old</th>\n",
       "      <th>qnuc_old</th>\n",
       "      <th>nnuc1</th>\n",
       "      <th>nnuc2</th>\n",
       "      <th>nnuc3</th>\n",
       "      <th>nnuc4</th>\n",
       "    </tr>\n",
       "  </thead>\n",
       "  <tbody>\n",
       "    <tr>\n",
       "      <th>0</th>\n",
       "      <td>0.5</td>\n",
       "      <td>0.0</td>\n",
       "      <td>270.0</td>\n",
       "      <td>0.00</td>\n",
       "      <td>-0.3</td>\n",
       "      <td>0.0</td>\n",
       "      <td>0.0</td>\n",
       "      <td>0.0</td>\n",
       "      <td>0.0</td>\n",
       "      <td>0.0</td>\n",
       "      <td>0.0</td>\n",
       "    </tr>\n",
       "    <tr>\n",
       "      <th>1</th>\n",
       "      <td>0.5</td>\n",
       "      <td>0.0</td>\n",
       "      <td>270.0</td>\n",
       "      <td>0.05</td>\n",
       "      <td>-0.3</td>\n",
       "      <td>0.0</td>\n",
       "      <td>0.0</td>\n",
       "      <td>0.0</td>\n",
       "      <td>0.0</td>\n",
       "      <td>0.0</td>\n",
       "      <td>0.0</td>\n",
       "    </tr>\n",
       "    <tr>\n",
       "      <th>2</th>\n",
       "      <td>0.5</td>\n",
       "      <td>0.0</td>\n",
       "      <td>270.0</td>\n",
       "      <td>0.10</td>\n",
       "      <td>-0.3</td>\n",
       "      <td>0.0</td>\n",
       "      <td>0.0</td>\n",
       "      <td>0.0</td>\n",
       "      <td>0.0</td>\n",
       "      <td>0.0</td>\n",
       "      <td>0.0</td>\n",
       "    </tr>\n",
       "    <tr>\n",
       "      <th>3</th>\n",
       "      <td>0.5</td>\n",
       "      <td>0.0</td>\n",
       "      <td>270.0</td>\n",
       "      <td>0.15</td>\n",
       "      <td>-0.3</td>\n",
       "      <td>0.0</td>\n",
       "      <td>0.0</td>\n",
       "      <td>0.0</td>\n",
       "      <td>0.0</td>\n",
       "      <td>0.0</td>\n",
       "      <td>0.0</td>\n",
       "    </tr>\n",
       "    <tr>\n",
       "      <th>4</th>\n",
       "      <td>0.5</td>\n",
       "      <td>0.0</td>\n",
       "      <td>270.0</td>\n",
       "      <td>0.20</td>\n",
       "      <td>-0.3</td>\n",
       "      <td>0.0</td>\n",
       "      <td>0.0</td>\n",
       "      <td>0.0</td>\n",
       "      <td>0.0</td>\n",
       "      <td>0.0</td>\n",
       "      <td>0.0</td>\n",
       "    </tr>\n",
       "  </tbody>\n",
       "</table>\n",
       "</div>"
      ],
      "text/plain": [
       "     w   qc      T  Sice  Sliq  Nnuc_old  qnuc_old  nnuc1  nnuc2  nnuc3  nnuc4\n",
       "0  0.5  0.0  270.0  0.00  -0.3       0.0       0.0    0.0    0.0    0.0    0.0\n",
       "1  0.5  0.0  270.0  0.05  -0.3       0.0       0.0    0.0    0.0    0.0    0.0\n",
       "2  0.5  0.0  270.0  0.10  -0.3       0.0       0.0    0.0    0.0    0.0    0.0\n",
       "3  0.5  0.0  270.0  0.15  -0.3       0.0       0.0    0.0    0.0    0.0    0.0\n",
       "4  0.5  0.0  270.0  0.20  -0.3       0.0       0.0    0.0    0.0    0.0    0.0"
      ]
     },
     "execution_count": 143,
     "metadata": {},
     "output_type": "execute_result"
    }
   ],
   "source": [
    "df = pd.read_csv(file, header=0, sep=\" \", dtype='float32', engine='python')\n",
    "df.head()"
   ]
  },
  {
   "cell_type": "code",
   "execution_count": 144,
   "metadata": {},
   "outputs": [
    {
     "data": {
      "text/html": [
       "<div>\n",
       "<style scoped>\n",
       "    .dataframe tbody tr th:only-of-type {\n",
       "        vertical-align: middle;\n",
       "    }\n",
       "\n",
       "    .dataframe tbody tr th {\n",
       "        vertical-align: top;\n",
       "    }\n",
       "\n",
       "    .dataframe thead th {\n",
       "        text-align: right;\n",
       "    }\n",
       "</style>\n",
       "<table border=\"1\" class=\"dataframe\">\n",
       "  <thead>\n",
       "    <tr style=\"text-align: right;\">\n",
       "      <th></th>\n",
       "      <th>w</th>\n",
       "      <th>qc</th>\n",
       "      <th>T</th>\n",
       "      <th>Sice</th>\n",
       "      <th>Sliq</th>\n",
       "      <th>Nnuc_old</th>\n",
       "      <th>qnuc_old</th>\n",
       "      <th>nnuc1</th>\n",
       "      <th>nnuc2</th>\n",
       "      <th>nnuc3</th>\n",
       "      <th>nnuc4</th>\n",
       "      <th>nnuc</th>\n",
       "    </tr>\n",
       "  </thead>\n",
       "  <tbody>\n",
       "    <tr>\n",
       "      <th>0</th>\n",
       "      <td>0.5</td>\n",
       "      <td>0.0</td>\n",
       "      <td>270.0</td>\n",
       "      <td>0.00</td>\n",
       "      <td>-0.3</td>\n",
       "      <td>0.0</td>\n",
       "      <td>0.0</td>\n",
       "      <td>0.0</td>\n",
       "      <td>0.0</td>\n",
       "      <td>0.0</td>\n",
       "      <td>0.0</td>\n",
       "      <td>0.0</td>\n",
       "    </tr>\n",
       "    <tr>\n",
       "      <th>1</th>\n",
       "      <td>0.5</td>\n",
       "      <td>0.0</td>\n",
       "      <td>270.0</td>\n",
       "      <td>0.05</td>\n",
       "      <td>-0.3</td>\n",
       "      <td>0.0</td>\n",
       "      <td>0.0</td>\n",
       "      <td>0.0</td>\n",
       "      <td>0.0</td>\n",
       "      <td>0.0</td>\n",
       "      <td>0.0</td>\n",
       "      <td>0.0</td>\n",
       "    </tr>\n",
       "    <tr>\n",
       "      <th>2</th>\n",
       "      <td>0.5</td>\n",
       "      <td>0.0</td>\n",
       "      <td>270.0</td>\n",
       "      <td>0.10</td>\n",
       "      <td>-0.3</td>\n",
       "      <td>0.0</td>\n",
       "      <td>0.0</td>\n",
       "      <td>0.0</td>\n",
       "      <td>0.0</td>\n",
       "      <td>0.0</td>\n",
       "      <td>0.0</td>\n",
       "      <td>0.0</td>\n",
       "    </tr>\n",
       "    <tr>\n",
       "      <th>3</th>\n",
       "      <td>0.5</td>\n",
       "      <td>0.0</td>\n",
       "      <td>270.0</td>\n",
       "      <td>0.15</td>\n",
       "      <td>-0.3</td>\n",
       "      <td>0.0</td>\n",
       "      <td>0.0</td>\n",
       "      <td>0.0</td>\n",
       "      <td>0.0</td>\n",
       "      <td>0.0</td>\n",
       "      <td>0.0</td>\n",
       "      <td>0.0</td>\n",
       "    </tr>\n",
       "    <tr>\n",
       "      <th>4</th>\n",
       "      <td>0.5</td>\n",
       "      <td>0.0</td>\n",
       "      <td>270.0</td>\n",
       "      <td>0.20</td>\n",
       "      <td>-0.3</td>\n",
       "      <td>0.0</td>\n",
       "      <td>0.0</td>\n",
       "      <td>0.0</td>\n",
       "      <td>0.0</td>\n",
       "      <td>0.0</td>\n",
       "      <td>0.0</td>\n",
       "      <td>0.0</td>\n",
       "    </tr>\n",
       "  </tbody>\n",
       "</table>\n",
       "</div>"
      ],
      "text/plain": [
       "     w   qc      T  Sice  Sliq  Nnuc_old  qnuc_old  nnuc1  nnuc2  nnuc3  \\\n",
       "0  0.5  0.0  270.0  0.00  -0.3       0.0       0.0    0.0    0.0    0.0   \n",
       "1  0.5  0.0  270.0  0.05  -0.3       0.0       0.0    0.0    0.0    0.0   \n",
       "2  0.5  0.0  270.0  0.10  -0.3       0.0       0.0    0.0    0.0    0.0   \n",
       "3  0.5  0.0  270.0  0.15  -0.3       0.0       0.0    0.0    0.0    0.0   \n",
       "4  0.5  0.0  270.0  0.20  -0.3       0.0       0.0    0.0    0.0    0.0   \n",
       "\n",
       "   nnuc4  nnuc  \n",
       "0    0.0   0.0  \n",
       "1    0.0   0.0  \n",
       "2    0.0   0.0  \n",
       "3    0.0   0.0  \n",
       "4    0.0   0.0  "
      ]
     },
     "execution_count": 144,
     "metadata": {},
     "output_type": "execute_result"
    }
   ],
   "source": [
    "df[\"nnuc\"] = df.nnuc1+df.nnuc2+df.nnuc3+df.nnuc4\n",
    "df.head()"
   ]
  },
  {
   "cell_type": "code",
   "execution_count": 145,
   "metadata": {},
   "outputs": [
    {
     "data": {
      "image/png": "[encoded data removed]",
      "text/plain": [
       "<Figure size 432x288 with 2 Axes>"
      ]
     },
     "metadata": {
      "needs_background": "light"
     },
     "output_type": "display_data"
    }
   ],
   "source": [
    "n=40\n",
    "sc = plt.scatter(df[\"T\"][100*n:100*(n+1)]-273.15, df[\"Sice\"][100*n:100*(n+1)], \n",
    "                 c=df.Nnuc_old[100*n:100*(n+1)])\n",
    "plt.xlabel(\"T (degC)\")\n",
    "plt.ylabel(\"$S_{ice}$\")\n",
    "plt.colorbar(sc)\n",
    "plt.show()"
   ]
  },
  {
   "cell_type": "code",
   "execution_count": 146,
   "metadata": {},
   "outputs": [
    {
     "name": "stdout",
     "output_type": "stream",
     "text": [
      "median of nnuc on w\n",
      "0 0.5 20000.0\n",
      "1 2.0 20000.0\n",
      "median of nnuc on qc\n",
      "0 0.0 20000.0\n",
      "1 0.0010000000474974513 20000.0\n",
      "median of nnuc on T\n",
      "0 270.0 0.0\n",
      "1 265.0 0.0\n",
      "2 260.0 0.0\n",
      "3 255.0 12451.830078125\n",
      "4 250.0 56932.578125\n",
      "5 245.0 260308.5625\n",
      "6 240.0 1190189.375\n",
      "7 235.0 20000.0\n",
      "8 230.0 20000.0\n",
      "9 225.0 20000.0\n",
      "10 220.0 20000.0\n",
      "11 215.0 20000.0\n",
      "12 210.0 20000.0\n",
      "13 205.0 20000.0\n",
      "14 200.0 20000.0\n",
      "15 195.0 20000.0\n",
      "16 190.0 20000.0\n",
      "17 185.0 20000.0\n",
      "median of nnuc on Sice\n",
      "0 0.0 0.0\n",
      "1 0.05000000074505806 0.0\n",
      "2 0.10000000149011612 20000.0\n",
      "3 0.15000000596046448 20000.0\n",
      "4 0.20000000298023224 56932.578125\n",
      "5 0.25 56932.578125\n",
      "6 0.30000001192092896 56932.578125\n",
      "7 0.3499999940395355 56932.578125\n",
      "8 0.4000000059604645 56932.578125\n",
      "9 0.44999998807907104 56932.578125\n",
      "median of nnuc on Sliq\n",
      "0 -0.30000001192092896 20000.0\n",
      "1 -0.20000000298023224 20000.0\n",
      "2 -0.10000000149011612 20000.0\n",
      "3 0.0 20000.0\n",
      "4 0.10000000149011612 20000.0\n",
      "5 0.20000000298023224 20000.0\n",
      "6 0.30000001192092896 20000.0\n",
      "7 0.4000000059604645 20000.0\n",
      "median of nnuc on Nnuc_old\n",
      "0 0.0 0.0\n",
      "1 2000.0 20000.0\n",
      "2 1245.1829833984375 12451.830078125\n",
      "3 5693.2578125 56932.578125\n",
      "4 26030.857421875 260308.5625\n",
      "5 119018.9375 1190189.375\n",
      "6 4253872.5 42538724.0\n",
      "7 5479961.5 54799612.0\n",
      "8 7059611.0 70596112.0\n",
      "9 9094775.0 90947752.0\n",
      "10 11716809.0 117168088.0\n",
      "11 15094944.0 0.0\n",
      "12 20002000.0 0.0\n",
      "13 940084.8125 9400848.0\n",
      "14 1306623.375 13066234.0\n",
      "15 1816379.75 18163798.0\n",
      "16 2525313.5 25253136.0\n",
      "17 3511249.75 35112496.0\n",
      "18 7087941.5 70879416.0\n",
      "19 9856636.0 98566360.0\n",
      "20 13707145.0 137071456.0\n",
      "median of nnuc on qnuc_old\n",
      "0 0.0 0.0\n",
      "1 7.539999874461856e-11 20000.0\n",
      "2 4.694000049765279e-11 12451.830078125\n",
      "3 2.1460000443340732e-10 56932.578125\n",
      "4 9.813999612973134e-10 260308.5625\n",
      "5 4.487000104802519e-09 1190189.375\n",
      "6 1.6040000616612815e-07 42538724.0\n",
      "7 2.066000064360196e-07 54799612.0\n",
      "8 2.660999882664328e-07 70596112.0\n",
      "9 3.4289999462089327e-07 90947752.0\n",
      "10 4.4169999569021456e-07 117168088.0\n",
      "11 5.690999955731968e-07 0.0\n",
      "12 7.54099971800315e-07 0.0\n",
      "13 3.543999937960507e-08 9400848.0\n",
      "14 4.925999874672016e-08 13066234.0\n",
      "15 6.847999856063325e-08 18163798.0\n",
      "16 9.520000077145596e-08 25253136.0\n",
      "17 1.3240000384939776e-07 35112496.0\n",
      "18 2.671999936865177e-07 70879416.0\n",
      "19 3.716000094300398e-07 98566360.0\n",
      "20 5.168000143385143e-07 137071456.0\n"
     ]
    }
   ],
   "source": [
    "var=\"nnuc\"\n",
    "var_dict = {}\n",
    "corr_dict = {}\n",
    "for j in range(7):\n",
    "    base = list(df.columns)[j]\n",
    "    uniq = pd.Series(df[base].unique(),name=base)\n",
    "    medians = pd.Series(np.zeros((len(uniq))), name=var)\n",
    "    print(\"median of {} on {}\".format(var,base))\n",
    "    for i,it in enumerate(uniq):\n",
    "        medians[i] = np.nanmedian(df[var].where(df[base]==it))\n",
    "        print(i,it,medians[i])\n",
    "    var_dict[base] = medians\n",
    "    corr_dict[base] = uniq.corr(medians)"
   ]
  },
  {
   "cell_type": "code",
   "execution_count": 147,
   "metadata": {},
   "outputs": [
    {
     "data": {
      "text/plain": [
       "dict_keys(['w', 'qc', 'T', 'Sice', 'Sliq', 'Nnuc_old', 'qnuc_old'])"
      ]
     },
     "execution_count": 147,
     "metadata": {},
     "output_type": "execute_result"
    }
   ],
   "source": [
    "var_dict.keys()"
   ]
  },
  {
   "cell_type": "code",
   "execution_count": 148,
   "metadata": {},
   "outputs": [
    {
     "data": {
      "text/plain": [
       "('test06.txt',\n",
       " {'w': nan,\n",
       "  'qc': nan,\n",
       "  'T': 0.1358735339872915,\n",
       "  'Sice': 0.8806617086673716,\n",
       "  'Sliq': nan,\n",
       "  'Nnuc_old': 0.49110542724448036,\n",
       "  'qnuc_old': 0.49109421097613093})"
      ]
     },
     "execution_count": 148,
     "metadata": {},
     "output_type": "execute_result"
    }
   ],
   "source": [
    "file, corr_dict"
   ]
  },
  {
   "cell_type": "code",
   "execution_count": 149,
   "metadata": {},
   "outputs": [
    {
     "data": {
      "image/png": "[encoded data removed]",
      "text/plain": [
       "<Figure size 720x360 with 21 Axes>"
      ]
     },
     "metadata": {
      "needs_background": "light"
     },
     "output_type": "display_data"
    }
   ],
   "source": [
    "# 2d histogram\n",
    "var=\"Sliq\"\n",
    "svals = np.arange(-0.2,0.5,0.2)\n",
    "fig, ax = plt.subplots(len(svals),5,figsize=(10,5), \n",
    "                       sharex=True, sharey=True, constrained_layout=True)\n",
    "imax = [1e7]*5\n",
    "\n",
    "for j in range(len(svals)):\n",
    "    mask = np.where((df[var]<svals[j]+0.05)&(df[var]>=svals[j]-0.05),True, False)\n",
    "    for i in range(5):\n",
    "        x = df[\"T\"].values[mask]\n",
    "        y = df[\"Sice\"].values[mask]\n",
    "        if i<4:\n",
    "            z = df[\"nnuc\"+str(i+1)].values[mask]\n",
    "            meds, xedges, yedges, _ = stats.binned_statistic_2d(x,y,z, \n",
    "                                      statistic=\"mean\", bins=[18,10])\n",
    "            title = \"nnuc\"+str(i+1)\n",
    "        \n",
    "        else:\n",
    "            z = df[\"nnuc\"].values[mask]\n",
    "            meds, xedges, yedges, _ = stats.binned_statistic_2d(x,y,z, \n",
    "                                      statistic=\"mean\", bins=[18,10])\n",
    "            title = \"nnuc_total\"\n",
    "        xbins=(xedges[1:]+xedges[:-1])/2\n",
    "        ybins=(yedges[1:]+yedges[:-1])/2\n",
    "        pc = ax[j,i].contourf(xbins-273.15, ybins, meds.T, \n",
    "                              levels=np.logspace(0,8,25), locator=ticker.LogLocator(), \n",
    "                              cmap=\"cividis\", extend='both')\n",
    "            \n",
    "        ax[-1,i].set_xlabel(\"T (degC)\")\n",
    "        ax[0,i].set_title(title)\n",
    "    ax[j,0].set_ylabel(\"Sice\")\n",
    "    ax[j,0].set_ylabel(\"Sliq = {:.1f}\\nSice\".format(svals[j]))\n",
    "fig.colorbar(pc, ax=ax[:,-1], shrink=0.5)\n",
    "fig.suptitle(file[:-4])\n",
    "plt.savefig(\"plots/T_Sice_by_Sliq_{}.png\".format(file[:-4]),dpi=120)\n",
    "plt.show()"
   ]
  },
  {
   "cell_type": "code",
   "execution_count": 150,
   "metadata": {},
   "outputs": [
    {
     "data": {
      "image/png": "[encoded data removed]",
      "text/plain": [
       "<Figure size 432x288 with 2 Axes>"
      ]
     },
     "metadata": {
      "needs_background": "light"
     },
     "output_type": "display_data"
    }
   ],
   "source": [
    "_,_,_,cs = plt.hist2d(df.Nnuc_old, df.qnuc_old, bins=[np.linspace(0,100000,10),np.array([0,1e-9,2e-9,3e-9,4e-9])])\n",
    "plt.colorbar(cs, label=\"count\")\n",
    "plt.xlabel(\"Nnuc_old\")\n",
    "plt.ylabel(\"qnuc_old\")\n",
    "plt.title(\"histogram of Nnuc_old & qnuc_old for {}\".format(file[:-4]))\n",
    "plt.savefig(\"plots/hist_qnuc_Nnuc_old_{}.png\".format(file[:-4]))\n",
    "plt.show()"
   ]
  },
  {
   "cell_type": "code",
   "execution_count": 151,
   "metadata": {},
   "outputs": [
    {
     "data": {
      "image/png": "[encoded data removed]",
      "text/plain": [
       "<Figure size 432x288 with 1 Axes>"
      ]
     },
     "metadata": {
      "needs_background": "light"
     },
     "output_type": "display_data"
    },
    {
     "data": {
      "image/png": "[encoded data removed]",
      "text/plain": [
       "<Figure size 432x288 with 1 Axes>"
      ]
     },
     "metadata": {
      "needs_background": "light"
     },
     "output_type": "display_data"
    }
   ],
   "source": [
    "# plt.hist(z)\n",
    "# plt.grid()\n",
    "df.Nnuc_old.hist()\n",
    "plt.xlabel(\"Nnuc_old\")\n",
    "plt.title(\"histogram of Nnuc_old for {}\".format(file[:-4]))\n",
    "plt.savefig(\"plots/hist_Nnuc_old_{}.png\".format(file[:-4]))\n",
    "plt.show()\n",
    "df.qnuc_old.hist()\n",
    "plt.xlabel(\"qnuc_old\")\n",
    "plt.title(\"histogram of qnuc_old for {}\".format(file[:-4]))\n",
    "plt.savefig(\"plots/hist_qnuc_old_{}.png\".format(file[:-4]))\n",
    "plt.show()"
   ]
  },
  {
   "cell_type": "code",
   "execution_count": 152,
   "metadata": {},
   "outputs": [
    {
     "data": {
      "text/plain": [
       "(0.0, 20002000.0)"
      ]
     },
     "execution_count": 152,
     "metadata": {},
     "output_type": "execute_result"
    }
   ],
   "source": [
    "df.Nnuc_old.min(), df.Nnuc_old.max()"
   ]
  },
  {
   "cell_type": "code",
   "execution_count": 153,
   "metadata": {},
   "outputs": [
    {
     "data": {
      "text/plain": [
       "1880"
      ]
     },
     "execution_count": 153,
     "metadata": {},
     "output_type": "execute_result"
    }
   ],
   "source": [
    "(df.where((df[\"T\"]>(253.15))&(df.Nnuc_old>100))[\"Nnuc_old\"]).count()\n",
    "# plt.show()"
   ]
  },
  {
   "cell_type": "code",
   "execution_count": 154,
   "metadata": {},
   "outputs": [
    {
     "name": "stderr",
     "output_type": "stream",
     "text": [
      "/ncar/usr/jupyterhub/envs/pangeo-3.6/lib/python3.6/site-packages/ipykernel_launcher.py:16: RuntimeWarning: Mean of empty slice\n",
      "  app.launch_new_instance()\n"
     ]
    },
    {
     "name": "stdout",
     "output_type": "stream",
     "text": [
      "sliq=-0.2, mean nnuc=nan, 0.0, nnuc count=0\n",
      "sliq=0.0, mean nnuc=nan, 0.0, nnuc count=0\n",
      "sliq=0.2, mean nnuc=nan, 0.0, nnuc count=0\n",
      "sliq=0.4, mean nnuc=nan, 0.0, nnuc count=0\n"
     ]
    },
    {
     "data": {
      "image/png": "[encoded data removed]",
      "text/plain": [
       "<Figure size 288x576 with 5 Axes>"
      ]
     },
     "metadata": {
      "needs_background": "light"
     },
     "output_type": "display_data"
    }
   ],
   "source": [
    "# single nnuc plot\n",
    "\n",
    "# 2d histogram\n",
    "var=\"Sliq\"\n",
    "svals = np.arange(-0.2,0.5,0.2)\n",
    "fig, ax = plt.subplots(len(svals),1,figsize=(4,8), \n",
    "                       sharex=True, sharey=True, constrained_layout=True)\n",
    "nnuc = \"nnuc3\"\n",
    "\n",
    "for j in range(len(svals)):\n",
    "    mask = np.where((df[var]<svals[j]+0.05)&(df[var]>=svals[j]-0.05),True, False)\n",
    "    x = df[\"T\"].values[mask]\n",
    "    y = df[\"Sice\"].values[mask]\n",
    "    z = df[nnuc].values[mask]\n",
    "    print(\"sliq={:.1f}, mean nnuc={}, {}, nnuc count={}\".format(svals[j], \n",
    "                                                  np.nanmean(np.where(z>0, z, np.nan)), \n",
    "                                                  np.nanmean(z),\n",
    "                                                  np.nansum(np.where(z>0,1,0))))\n",
    "    meds, xedges, yedges, _ = stats.binned_statistic_2d(x,y,z, \n",
    "                              statistic=\"mean\", bins=[18,10])\n",
    "\n",
    "    xbins=(xedges[1:]+xedges[:-1])/2\n",
    "    ybins=(yedges[1:]+yedges[:-1])/2\n",
    "    pc = ax[j].contourf(xbins-273.15, ybins, meds.T, vmin=0, vmax=2e8,\n",
    "                          # levels=np.logspace(0,8,25), locator=ticker.LogLocator(), \n",
    "                          cmap=\"cividis\")\n",
    "\n",
    "    ax[j].set_ylabel(\"Sice\")\n",
    "    ax[j].set_ylabel(\"Sliq = {:.1f}\\nSice\".format(svals[j]))\n",
    "ax[-1].set_xlabel(\"T (degC)\")\n",
    "ax[0].set_title(nnuc)\n",
    "fig.colorbar(pc, ax=ax[:], shrink=0.5)\n",
    "fig.suptitle(file[:-4])\n",
    "plt.savefig(\"plots/T_Sice_by_Sliq_{}_{}.png\".format(file[:-4],nnuc),dpi=120)\n",
    "plt.show()"
   ]
  },
  {
   "cell_type": "code",
   "execution_count": null,
   "metadata": {},
   "outputs": [],
   "source": []
  },
  {
   "cell_type": "code",
   "execution_count": null,
   "metadata": {},
   "outputs": [],
   "source": []
  }
 ],
 "metadata": {
  "kernelspec": {
   "display_name": "Pangeo (Python 3.6)",
   "language": "python",
   "name": "pangeo-3.6"
  },
  "language_info": {
   "codemirror_mode": {
    "name": "ipython",
    "version": 3
   },
   "file_extension": ".py",
   "mimetype": "text/x-python",
   "name": "python",
   "nbconvert_exporter": "python",
   "pygments_lexer": "ipython3",
   "version": "3.6.7"
  }
 },
 "nbformat": 4,
 "nbformat_minor": 4
}
